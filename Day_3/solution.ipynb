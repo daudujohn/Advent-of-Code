{
 "cells": [
  {
   "cell_type": "markdown",
   "metadata": {},
   "source": [
    "### 1"
   ]
  },
  {
   "cell_type": "code",
   "execution_count": 36,
   "metadata": {},
   "outputs": [],
   "source": [
    "import string\n",
    "def Rucksack_Reorganization():\n",
    "    sum = 0\n",
    "    with open('./input.txt', 'r') as f:\n",
    "        input = f.readlines()\n",
    "\n",
    "    def appears_twice(first_str, second_str):\n",
    "        for char in first_str:\n",
    "            if char in second_str:\n",
    "                return char\n",
    "\n",
    "    def priority(item):\n",
    "        return string.ascii_letters.index(item) + 1\n",
    "\n",
    "    for sack_item in input:\n",
    "        sack_item = sack_item.strip('\\n')\n",
    "        first_str = sack_item[:len(sack_item)//2]\n",
    "        second_str = sack_item[len(sack_item)//2:]\n",
    "        apps_twice = appears_twice(first_str=first_str, second_str=second_str)\n",
    "        sum += priority(item=apps_twice)\n",
    "\n",
    "    return sum"
   ]
  }
 ],
 "metadata": {
  "kernelspec": {
   "display_name": "Python 3.8.8 ('base')",
   "language": "python",
   "name": "python3"
  },
  "language_info": {
   "codemirror_mode": {
    "name": "ipython",
    "version": 3
   },
   "file_extension": ".py",
   "mimetype": "text/x-python",
   "name": "python",
   "nbconvert_exporter": "python",
   "pygments_lexer": "ipython3",
   "version": "3.8.8"
  },
  "orig_nbformat": 4,
  "vscode": {
   "interpreter": {
    "hash": "c557f328b9f61558648e097299f93c2ff4e25878ecc5e646b6a13483e460f0cb"
   }
  }
 },
 "nbformat": 4,
 "nbformat_minor": 2
}
