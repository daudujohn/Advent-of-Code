{
 "cells": [
  {
   "cell_type": "markdown",
   "metadata": {},
   "source": [
    "### 1"
   ]
  },
  {
   "cell_type": "code",
   "execution_count": 4,
   "metadata": {},
   "outputs": [
    {
     "data": {
      "text/plain": [
       "70720"
      ]
     },
     "execution_count": 4,
     "metadata": {},
     "output_type": "execute_result"
    }
   ],
   "source": [
    "def find_max_calorie():\n",
    "    calorie_sum = 0\n",
    "    max_calorie = calorie_sum\n",
    "\n",
    "    with open (r'.\\day_1_input.txt', 'r') as f:\n",
    "        input = f.readlines()\n",
    "    for item in input:\n",
    "        if item == '\\n':\n",
    "            if calorie_sum > max_calorie:\n",
    "                max_calorie = calorie_sum\n",
    "            calorie_sum = 0\n",
    "            continue\n",
    "        calorie_sum += int(item.strip('\\n'))\n",
    "    return max_calorie"
   ]
  },
  {
   "cell_type": "markdown",
   "metadata": {},
   "source": [
    "### 2"
   ]
  },
  {
   "cell_type": "code",
   "execution_count": 1,
   "metadata": {},
   "outputs": [
    {
     "data": {
      "text/plain": [
       "[67920, 68508, 70720]"
      ]
     },
     "execution_count": 1,
     "metadata": {},
     "output_type": "execute_result"
    }
   ],
   "source": [
    "def top_three():\n",
    "    calorie_sum = 0\n",
    "    max_calorie = calorie_sum\n",
    "    top_calorie = []\n",
    "    with open (r'.\\day_1_input.txt', 'r') as f:\n",
    "        input = f.readlines()\n",
    "    for item in input:\n",
    "        if item == '\\n':\n",
    "            max_calorie = calorie_sum\n",
    "            calorie_sum = 0\n",
    "            top_calorie.append(max_calorie)\n",
    "        else:\n",
    "            calorie_sum += int(item.strip('\\n'))\n",
    "    return sorted(top_calorie)[-3:]"
   ]
  }
 ],
 "metadata": {
  "kernelspec": {
   "display_name": "Python 3.8.8 ('base')",
   "language": "python",
   "name": "python3"
  },
  "language_info": {
   "codemirror_mode": {
    "name": "ipython",
    "version": 3
   },
   "file_extension": ".py",
   "mimetype": "text/x-python",
   "name": "python",
   "nbconvert_exporter": "python",
   "pygments_lexer": "ipython3",
   "version": "3.8.8"
  },
  "orig_nbformat": 4,
  "vscode": {
   "interpreter": {
    "hash": "c557f328b9f61558648e097299f93c2ff4e25878ecc5e646b6a13483e460f0cb"
   }
  }
 },
 "nbformat": 4,
 "nbformat_minor": 2
}
