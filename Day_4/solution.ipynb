{
 "cells": [
  {
   "cell_type": "markdown",
   "metadata": {},
   "source": [
    "### 1"
   ]
  },
  {
   "cell_type": "code",
   "execution_count": 51,
   "metadata": {},
   "outputs": [
    {
     "name": "stdout",
     "output_type": "stream",
     "text": [
      "5 3\n"
     ]
    },
    {
     "data": {
      "text/plain": [
       "[5, 6, 7]"
      ]
     },
     "execution_count": 51,
     "metadata": {},
     "output_type": "execute_result"
    }
   ],
   "source": [
    "m = [3, 5, 6, 7, 8]\n",
    "n = [5, 6, 7]\n",
    "print(len(m), len(n))\n",
    "minl = min(m, n, key=len)\n",
    "minl"
   ]
  },
  {
   "cell_type": "code",
   "execution_count": 73,
   "metadata": {},
   "outputs": [
    {
     "name": "stdout",
     "output_type": "stream",
     "text": [
      "22 14 True [66] [51, 52, 53, 54, 55, 56, 57, 58, 59, 60, 61, 62, 63, 64, 65, 66]\n",
      "['51-66', '66-66']\n",
      "\n",
      "602\n"
     ]
    }
   ],
   "source": [
    "def is_subset(liner):\n",
    "    input = []\n",
    "    with open ('./input.txt', 'r') as f:\n",
    "        for line in f:\n",
    "            line = line.strip('\\n')\n",
    "            input.append(line.split(','))\n",
    "    liner -= 1\n",
    "    counter = 0\n",
    "    for i, pair in enumerate(input):\n",
    "        elf1, elf2 = pair[0].split('-'), pair[1].split('-')\n",
    "        elf1_start = int(elf1[0])\n",
    "        elf1_end = int(elf1[1])\n",
    "        elf1_sections = [i for i in range(elf1_start, elf1_end + 1)]\n",
    "        elf2_start = int(elf2[0])\n",
    "        elf2_end = int(elf2[1])\n",
    "        elf2_sections = [i for i in range(elf2_start, elf2_end + 1)]\n",
    "        \n",
    "        min_section = min(elf1_sections, elf2_sections, key=len)\n",
    "        max_section = max(elf1_sections, elf2_sections, key=len)\n",
    "        flag = False\n",
    "        if(all(x in max_section for x in min_section)): \n",
    "            counter += 1\n",
    "            flag = True\n",
    "        if i == liner:\n",
    "            print(i, counter, flag, elf2_sections, elf1_sections)\n",
    "    print(input[liner])\n",
    "    print()\n",
    "    return counter\n",
    "\n",
    "print(is_subset(23))"
   ]
  }
 ],
 "metadata": {
  "kernelspec": {
   "display_name": "Python 3.8.8 ('base')",
   "language": "python",
   "name": "python3"
  },
  "language_info": {
   "codemirror_mode": {
    "name": "ipython",
    "version": 3
   },
   "file_extension": ".py",
   "mimetype": "text/x-python",
   "name": "python",
   "nbconvert_exporter": "python",
   "pygments_lexer": "ipython3",
   "version": "3.8.8"
  },
  "orig_nbformat": 4,
  "vscode": {
   "interpreter": {
    "hash": "c557f328b9f61558648e097299f93c2ff4e25878ecc5e646b6a13483e460f0cb"
   }
  }
 },
 "nbformat": 4,
 "nbformat_minor": 2
}
