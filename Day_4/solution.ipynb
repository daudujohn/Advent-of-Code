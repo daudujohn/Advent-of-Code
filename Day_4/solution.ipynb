{
 "cells": [
  {
   "cell_type": "markdown",
   "metadata": {},
   "source": [
    "### 1"
   ]
  },
  {
   "cell_type": "code",
   "execution_count": 1,
   "metadata": {},
   "outputs": [],
   "source": [
    "def is_subset():\n",
    "    input = []\n",
    "    with open ('./input.txt', 'r') as f:\n",
    "        for line in f:\n",
    "            line = line.strip('\\n')\n",
    "            input.append(line.split(','))\n",
    "    counter = 0\n",
    "    for pair in input:\n",
    "        elf1, elf2 = pair[0].split('-'), pair[1].split5('-')\n",
    "        elf1_start = int(elf1[0])\n",
    "        elf1_end = int(elf1[1])\n",
    "        elf1_sections = [i for i in range(elf1_start, elf1_end + 1)]\n",
    "        elf2_start = int(elf2[0])\n",
    "        elf2_end = int(elf2[1])\n",
    "        elf2_sections = [i for i in range(elf2_start, elf2_end + 1)]\n",
    "        \n",
    "        min_section = min(elf1_sections, elf2_sections, key=len)\n",
    "        max_section = max(elf1_sections, elf2_sections, key=len)\n",
    "        \n",
    "        if(all(x in max_section for x in min_section)): \n",
    "            counter += 1\n",
    "    return counter"
   ]
  }
 ],
 "metadata": {
  "kernelspec": {
   "display_name": "Python 3.8.8 ('base')",
   "language": "python",
   "name": "python3"
  },
  "language_info": {
   "codemirror_mode": {
    "name": "ipython",
    "version": 3
   },
   "file_extension": ".py",
   "mimetype": "text/x-python",
   "name": "python",
   "nbconvert_exporter": "python",
   "pygments_lexer": "ipython3",
   "version": "3.8.8"
  },
  "orig_nbformat": 4,
  "vscode": {
   "interpreter": {
    "hash": "c557f328b9f61558648e097299f93c2ff4e25878ecc5e646b6a13483e460f0cb"
   }
  }
 },
 "nbformat": 4,
 "nbformat_minor": 2
}
